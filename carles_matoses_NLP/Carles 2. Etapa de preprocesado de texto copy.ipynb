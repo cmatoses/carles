{
 "cells": [
  {
   "cell_type": "markdown",
   "metadata": {},
   "source": [
    "# 2. Etapa de preprocesado de texto"
   ]
  },
  {
   "cell_type": "code",
   "execution_count": 33,
   "metadata": {},
   "outputs": [],
   "source": [
    "from datasets import load_dataset\n",
    "import pandas as pd\n",
    "import nltk\n",
    "import numpy as np\n",
    "import matplotlib as plt\n",
    "import multiprocessing\n",
    "from nltk.corpus import stopwords\n",
    "from nltk.tokenize import word_tokenize\n",
    "from nltk import word_tokenize, TreebankWordTokenizer, RegexpTokenizer\n",
    "from nltk import ngrams\n",
    "from nltk.probability import FreqDist\n",
    "from collections import Counter\n",
    "from wordcloud import WordCloud\n",
    "from sklearn.decomposition import PCA\n",
    "from sklearn.manifold import TSNE\n",
    "from gensim.models import Word2Vec\n",
    "from gensim.models.word2vec import LineSentence\n",
    "from time import time\n",
    "from stop_words import get_stop_words\n",
    "import unicodedata\n",
    "import re\n",
    "\n"
   ]
  },
  {
   "cell_type": "code",
   "execution_count": 35,
   "metadata": {},
   "outputs": [],
   "source": [
    "# Importamos los datos\n",
    "path = r'C:\\Users\\CARLES\\1.CARLES\\FORMACIONES\\BOOTCAMP KEEPCODING\\10. NLP'\n",
    "\n",
    "df = pd.read_csv(f'{path}\\df_nlp.csv')\n",
    "reduced_df = pd.read_csv(f'{path}\\\\reduced_df_nlp.csv')\n",
    "words = pd.read_csv(f'{path}\\words_nlp.csv')\n"
   ]
  },
  {
   "cell_type": "code",
   "execution_count": 36,
   "metadata": {},
   "outputs": [],
   "source": [
    "sw_list = get_stop_words('en')"
   ]
  },
  {
   "cell_type": "code",
   "execution_count": 37,
   "metadata": {},
   "outputs": [],
   "source": [
    "def sentence_normalization(sentence):\n",
    "    sentence = unicodedata.normalize('NFKD', sentence).lower().encode('ascii', errors='ignore').decode('utf-8')\n",
    "    sentence = re.sub(' +', ' ', ' '.join([word if word.isalpha() else '' for word in sentence.split()])).strip()\n",
    "    return sentence"
   ]
  },
  {
   "cell_type": "code",
   "execution_count": 38,
   "metadata": {},
   "outputs": [],
   "source": [
    "def remove_stopwords(sentence, sw_list):\n",
    "    sentence = ' '.join([word for word in sentence.split() if word not in sw_list])\n",
    "    return sentence"
   ]
  },
  {
   "cell_type": "code",
   "execution_count": 39,
   "metadata": {},
   "outputs": [],
   "source": [
    "def lemmatize_sentence(sentence):\n",
    "    lemmatizer = WordNetLemmatizer()\n",
    "    tokens = word_tokenize(sentence)\n",
    "    lemmatized_tokens = [lemmatizer.lemmatize(token) for token in tokens]\n",
    "    lemmatized_sentence = ' '.join(lemmatized_tokens)\n",
    "    return lemmatized_sentence"
   ]
  },
  {
   "cell_type": "code",
   "execution_count": 40,
   "metadata": {},
   "outputs": [],
   "source": [
    "# Funcion final\n",
    "\n",
    "def process_reviews(reviews, sw_list):\n",
    "    processed_sentences = []\n",
    "    for sent in reduced_df['review']:\n",
    "        if not sent != sent:  # check if sent is not nan\n",
    "            sent = sentence_normalization(sent)\n",
    "            sent = remove_stopwords(sent, sw_list)\n",
    "            sent = lemmatize_sentence(sent)\n",
    "            processed_sentences.append(sent)\n",
    "        else:\n",
    "            processed_sentences.append('None')\n",
    "    return processed_sentences"
   ]
  },
  {
   "cell_type": "code",
   "execution_count": 41,
   "metadata": {},
   "outputs": [],
   "source": [
    "processed_reviews = process_reviews(reduced_df['review'], sw_list)"
   ]
  },
  {
   "cell_type": "code",
   "execution_count": 42,
   "metadata": {},
   "outputs": [
    {
     "name": "stdout",
     "output_type": "stream",
     "text": [
      "Review original: This product does what I need it to do, I just wish it was odorless or had a soft coconut smell. Having my head smell like an orange coffee is offputting. (granted, I did know the smell was described but I was hoping it would be light)\n",
      "Review procesada: product need just wish odorless soft coconut head smell like orange coffee know smell described hoping\n"
     ]
    }
   ],
   "source": [
    "print('Review original: {}'.format(reduced_df['review'].values[0]))\n",
    "print('Review procesada: {}'.format(processed_reviews[0]))"
   ]
  },
  {
   "cell_type": "code",
   "execution_count": 43,
   "metadata": {},
   "outputs": [
    {
     "data": {
      "text/html": [
       "<div>\n",
       "<style scoped>\n",
       "    .dataframe tbody tr th:only-of-type {\n",
       "        vertical-align: middle;\n",
       "    }\n",
       "\n",
       "    .dataframe tbody tr th {\n",
       "        vertical-align: top;\n",
       "    }\n",
       "\n",
       "    .dataframe thead th {\n",
       "        text-align: right;\n",
       "    }\n",
       "</style>\n",
       "<table border=\"1\" class=\"dataframe\">\n",
       "  <thead>\n",
       "    <tr style=\"text-align: right;\">\n",
       "      <th></th>\n",
       "      <th>review</th>\n",
       "      <th>sentiment</th>\n",
       "      <th>sentences</th>\n",
       "      <th>is_negative_sentiment</th>\n",
       "      <th>processedReview</th>\n",
       "    </tr>\n",
       "  </thead>\n",
       "  <tbody>\n",
       "    <tr>\n",
       "      <th>0</th>\n",
       "      <td>This product does what I need it to do, I just...</td>\n",
       "      <td>4.0</td>\n",
       "      <td>['This product does what I need it to do, I ju...</td>\n",
       "      <td>0</td>\n",
       "      <td>product need just wish odorless soft coconut h...</td>\n",
       "    </tr>\n",
       "    <tr>\n",
       "      <th>1</th>\n",
       "      <td>Felt synthetic</td>\n",
       "      <td>1.0</td>\n",
       "      <td>['Felt synthetic']</td>\n",
       "      <td>1</td>\n",
       "      <td>felt synthetic</td>\n",
       "    </tr>\n",
       "    <tr>\n",
       "      <th>2</th>\n",
       "      <td>The polish was quiet thick and did not apply s...</td>\n",
       "      <td>4.0</td>\n",
       "      <td>['The polish was quiet thick and did not apply...</td>\n",
       "      <td>0</td>\n",
       "      <td>polish quiet thick apply let dry overnight add...</td>\n",
       "    </tr>\n",
       "    <tr>\n",
       "      <th>3</th>\n",
       "      <td>These were lightweight and soft but much too s...</td>\n",
       "      <td>3.0</td>\n",
       "      <td>['These were lightweight and soft but much too...</td>\n",
       "      <td>0</td>\n",
       "      <td>lightweight soft much small preferred two toge...</td>\n",
       "    </tr>\n",
       "    <tr>\n",
       "      <th>4</th>\n",
       "      <td>I was very disappointed when I got this facial...</td>\n",
       "      <td>3.0</td>\n",
       "      <td>['I was very disappointed when I got this faci...</td>\n",
       "      <td>0</td>\n",
       "      <td>disappointed got facial assumed like scrub use...</td>\n",
       "    </tr>\n",
       "    <tr>\n",
       "      <th>...</th>\n",
       "      <td>...</td>\n",
       "      <td>...</td>\n",
       "      <td>...</td>\n",
       "      <td>...</td>\n",
       "      <td>...</td>\n",
       "    </tr>\n",
       "    <tr>\n",
       "      <th>480797</th>\n",
       "      <td>I enjoy it for praying over people and anointi...</td>\n",
       "      <td>5.0</td>\n",
       "      <td>['I enjoy it for praying over people and anoin...</td>\n",
       "      <td>0</td>\n",
       "      <td>enjoy praying people anointing bed work</td>\n",
       "    </tr>\n",
       "    <tr>\n",
       "      <th>480798</th>\n",
       "      <td>It’s exactly as depicted!</td>\n",
       "      <td>5.0</td>\n",
       "      <td>['It’s exactly as depicted!']</td>\n",
       "      <td>0</td>\n",
       "      <td>exactly</td>\n",
       "    </tr>\n",
       "    <tr>\n",
       "      <th>480799</th>\n",
       "      <td>Works well, so much better than putting foil o...</td>\n",
       "      <td>5.0</td>\n",
       "      <td>['Works well, so much better than putting foil...</td>\n",
       "      <td>0</td>\n",
       "      <td>work much better putting foil love come dispen...</td>\n",
       "    </tr>\n",
       "    <tr>\n",
       "      <th>480800</th>\n",
       "      <td>I really enjoyed these masks. They felt calmin...</td>\n",
       "      <td>5.0</td>\n",
       "      <td>['I really enjoyed these masks.', 'They felt c...</td>\n",
       "      <td>0</td>\n",
       "      <td>really enjoyed felt using skin looked clearer ...</td>\n",
       "    </tr>\n",
       "    <tr>\n",
       "      <th>480801</th>\n",
       "      <td>A little goes a long way. It then washes off y...</td>\n",
       "      <td>5.0</td>\n",
       "      <td>['A little goes a long way.', 'It then washes ...</td>\n",
       "      <td>0</td>\n",
       "      <td>little go long wash finger make hair brittle c...</td>\n",
       "    </tr>\n",
       "  </tbody>\n",
       "</table>\n",
       "<p>480802 rows × 5 columns</p>\n",
       "</div>"
      ],
      "text/plain": [
       "                                                   review  sentiment  \\\n",
       "0       This product does what I need it to do, I just...        4.0   \n",
       "1                                          Felt synthetic        1.0   \n",
       "2       The polish was quiet thick and did not apply s...        4.0   \n",
       "3       These were lightweight and soft but much too s...        3.0   \n",
       "4       I was very disappointed when I got this facial...        3.0   \n",
       "...                                                   ...        ...   \n",
       "480797  I enjoy it for praying over people and anointi...        5.0   \n",
       "480798                          It’s exactly as depicted!        5.0   \n",
       "480799  Works well, so much better than putting foil o...        5.0   \n",
       "480800  I really enjoyed these masks. They felt calmin...        5.0   \n",
       "480801  A little goes a long way. It then washes off y...        5.0   \n",
       "\n",
       "                                                sentences  \\\n",
       "0       ['This product does what I need it to do, I ju...   \n",
       "1                                      ['Felt synthetic']   \n",
       "2       ['The polish was quiet thick and did not apply...   \n",
       "3       ['These were lightweight and soft but much too...   \n",
       "4       ['I was very disappointed when I got this faci...   \n",
       "...                                                   ...   \n",
       "480797  ['I enjoy it for praying over people and anoin...   \n",
       "480798                      ['It’s exactly as depicted!']   \n",
       "480799  ['Works well, so much better than putting foil...   \n",
       "480800  ['I really enjoyed these masks.', 'They felt c...   \n",
       "480801  ['A little goes a long way.', 'It then washes ...   \n",
       "\n",
       "        is_negative_sentiment  \\\n",
       "0                           0   \n",
       "1                           1   \n",
       "2                           0   \n",
       "3                           0   \n",
       "4                           0   \n",
       "...                       ...   \n",
       "480797                      0   \n",
       "480798                      0   \n",
       "480799                      0   \n",
       "480800                      0   \n",
       "480801                      0   \n",
       "\n",
       "                                          processedReview  \n",
       "0       product need just wish odorless soft coconut h...  \n",
       "1                                          felt synthetic  \n",
       "2       polish quiet thick apply let dry overnight add...  \n",
       "3       lightweight soft much small preferred two toge...  \n",
       "4       disappointed got facial assumed like scrub use...  \n",
       "...                                                   ...  \n",
       "480797            enjoy praying people anointing bed work  \n",
       "480798                                            exactly  \n",
       "480799  work much better putting foil love come dispen...  \n",
       "480800  really enjoyed felt using skin looked clearer ...  \n",
       "480801  little go long wash finger make hair brittle c...  \n",
       "\n",
       "[480802 rows x 5 columns]"
      ]
     },
     "execution_count": 43,
     "metadata": {},
     "output_type": "execute_result"
    }
   ],
   "source": [
    "reduced_df.loc[:, 'processedReview'] = processed_reviews\n",
    "reduced_df"
   ]
  },
  {
   "cell_type": "code",
   "execution_count": 44,
   "metadata": {},
   "outputs": [
    {
     "data": {
      "text/plain": [
       "<bound method NDFrame.head of                                                    review  sentiment  \\\n",
       "0       This product does what I need it to do, I just...        4.0   \n",
       "1                                          Felt synthetic        1.0   \n",
       "2       The polish was quiet thick and did not apply s...        4.0   \n",
       "3       These were lightweight and soft but much too s...        3.0   \n",
       "4       I was very disappointed when I got this facial...        3.0   \n",
       "...                                                   ...        ...   \n",
       "480797  I enjoy it for praying over people and anointi...        5.0   \n",
       "480798                          It’s exactly as depicted!        5.0   \n",
       "480799  Works well, so much better than putting foil o...        5.0   \n",
       "480800  I really enjoyed these masks. They felt calmin...        5.0   \n",
       "480801  A little goes a long way. It then washes off y...        5.0   \n",
       "\n",
       "                                                sentences  \\\n",
       "0       ['This product does what I need it to do, I ju...   \n",
       "1                                      ['Felt synthetic']   \n",
       "2       ['The polish was quiet thick and did not apply...   \n",
       "3       ['These were lightweight and soft but much too...   \n",
       "4       ['I was very disappointed when I got this faci...   \n",
       "...                                                   ...   \n",
       "480797  ['I enjoy it for praying over people and anoin...   \n",
       "480798                      ['It’s exactly as depicted!']   \n",
       "480799  ['Works well, so much better than putting foil...   \n",
       "480800  ['I really enjoyed these masks.', 'They felt c...   \n",
       "480801  ['A little goes a long way.', 'It then washes ...   \n",
       "\n",
       "        is_negative_sentiment  \\\n",
       "0                           0   \n",
       "1                           1   \n",
       "2                           0   \n",
       "3                           0   \n",
       "4                           0   \n",
       "...                       ...   \n",
       "480797                      0   \n",
       "480798                      0   \n",
       "480799                      0   \n",
       "480800                      0   \n",
       "480801                      0   \n",
       "\n",
       "                                          processedReview  \n",
       "0       product need just wish odorless soft coconut h...  \n",
       "1                                          felt synthetic  \n",
       "2       polish quiet thick apply let dry overnight add...  \n",
       "3       lightweight soft much small preferred two toge...  \n",
       "4       disappointed got facial assumed like scrub use...  \n",
       "...                                                   ...  \n",
       "480797            enjoy praying people anointing bed work  \n",
       "480798                                            exactly  \n",
       "480799  work much better putting foil love come dispen...  \n",
       "480800  really enjoyed felt using skin looked clearer ...  \n",
       "480801  little go long wash finger make hair brittle c...  \n",
       "\n",
       "[475574 rows x 5 columns]>"
      ]
     },
     "execution_count": 44,
     "metadata": {},
     "output_type": "execute_result"
    }
   ],
   "source": [
    "reduced_df['processedReview'] = reduced_df['processedReview'].replace('', np.nan)\n",
    "reduced_df = reduced_df.dropna(subset=['processedReview'])\n",
    "reduced_df.head"
   ]
  },
  {
   "cell_type": "code",
   "execution_count": 45,
   "metadata": {},
   "outputs": [],
   "source": [
    "# Guardamos\n",
    "reduced_df.to_csv(r'C:\\Users\\CARLES\\1.CARLES\\FORMACIONES\\BOOTCAMP KEEPCODING\\10. NLP\\reduced_df_clean_nlp.csv', index = False)"
   ]
  }
 ],
 "metadata": {
  "kernelspec": {
   "display_name": "base",
   "language": "python",
   "name": "python3"
  },
  "language_info": {
   "codemirror_mode": {
    "name": "ipython",
    "version": 3
   },
   "file_extension": ".py",
   "mimetype": "text/x-python",
   "name": "python",
   "nbconvert_exporter": "python",
   "pygments_lexer": "ipython3",
   "version": "3.8.19"
  }
 },
 "nbformat": 4,
 "nbformat_minor": 2
}
