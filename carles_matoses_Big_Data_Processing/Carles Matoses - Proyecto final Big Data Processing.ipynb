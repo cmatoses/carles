{
 "cells": [
  {
   "cell_type": "code",
   "execution_count": 2,
   "id": "d548da84",
   "metadata": {},
   "outputs": [],
   "source": [
    "import pyspark\n",
    "\n",
    "#Creamos una sesion de spark\n",
    "from pyspark.sql import SparkSession\n",
    "from pyspark.sql.functions import col, max, row_number\n",
    "from pyspark.sql.window import Window\n",
    "\n",
    "#Creamos un objeto de spark session\n",
    "spark = SparkSession.builder.appName(\"pysparkdf\").getOrCreate()"
   ]
  },
  {
   "cell_type": "code",
   "execution_count": 3,
   "id": "a5aa3275",
   "metadata": {},
   "outputs": [],
   "source": [
    "#Leemos los ficheros cvs\n",
    "df_21 = spark.read.option(\"header\", \"true\").csv(\"C:/Users/CARLES/1.CARLES/FORMACIONES/BOOTCAMP KEEPCODING/5. Data Processing/PROYECTO FINAL/Datasets/world-happiness-report-2021.csv\")\n",
    "df_total = spark.read.option(\"header\", \"true\").csv(\"C:/Users/CARLES/1.CARLES/FORMACIONES/BOOTCAMP KEEPCODING/5. Data Processing/PROYECTO FINAL/Datasets/world-happiness-report.csv\")"
   ]
  },
  {
   "cell_type": "code",
   "execution_count": 4,
   "id": "d741e8af",
   "metadata": {},
   "outputs": [
    {
     "name": "stdout",
     "output_type": "stream",
     "text": [
      "+------------+----+-----------+------------------+--------------+--------------------------------+----------------------------+----------+-------------------------+---------------+---------------+\n",
      "|Country name|year|Life Ladder|Log GDP per capita|Social support|Healthy life expectancy at birth|Freedom to make life choices|Generosity|Perceptions of corruption|Positive affect|Negative affect|\n",
      "+------------+----+-----------+------------------+--------------+--------------------------------+----------------------------+----------+-------------------------+---------------+---------------+\n",
      "| Afghanistan|2008|      3.724|             7.370|         0.451|                          50.800|                       0.718|     0.168|                    0.882|          0.518|          0.258|\n",
      "| Afghanistan|2009|      4.402|             7.540|         0.552|                          51.200|                       0.679|     0.190|                    0.850|          0.584|          0.237|\n",
      "| Afghanistan|2010|      4.758|             7.647|         0.539|                          51.600|                       0.600|     0.121|                    0.707|          0.618|          0.275|\n",
      "| Afghanistan|2011|      3.832|             7.620|         0.521|                          51.920|                       0.496|     0.162|                    0.731|          0.611|          0.267|\n",
      "| Afghanistan|2012|      3.783|             7.705|         0.521|                          52.240|                       0.531|     0.236|                    0.776|          0.710|          0.268|\n",
      "| Afghanistan|2013|      3.572|             7.725|         0.484|                          52.560|                       0.578|     0.061|                    0.823|          0.621|          0.273|\n",
      "| Afghanistan|2014|      3.131|             7.718|         0.526|                          52.880|                       0.509|     0.104|                    0.871|          0.532|          0.375|\n",
      "| Afghanistan|2015|      3.983|             7.702|         0.529|                          53.200|                       0.389|     0.080|                    0.881|          0.554|          0.339|\n",
      "| Afghanistan|2016|      4.220|             7.697|         0.559|                          53.000|                       0.523|     0.042|                    0.793|          0.565|          0.348|\n",
      "| Afghanistan|2017|      2.662|             7.697|         0.491|                          52.800|                       0.427|    -0.121|                    0.954|          0.496|          0.371|\n",
      "+------------+----+-----------+------------------+--------------+--------------------------------+----------------------------+----------+-------------------------+---------------+---------------+\n",
      "only showing top 10 rows\n",
      "\n"
     ]
    }
   ],
   "source": [
    "#Mostramos los primeros 10 registros\n",
    "df_total.show(10)"
   ]
  },
  {
   "cell_type": "code",
   "execution_count": 5,
   "id": "b76b2fd3",
   "metadata": {},
   "outputs": [
    {
     "name": "stdout",
     "output_type": "stream",
     "text": [
      "+------------+--------------------+------------+------------------------------+------------+------------+---------------------+--------------+-----------------------+----------------------------+----------+-------------------------+------------------------+--------------------------------+----------------------------+-------------------------------------+------------------------------------------+------------------------+---------------------------------------+-------------------+\n",
      "|Country name|  Regional indicator|Ladder score|Standard error of ladder score|upperwhisker|lowerwhisker|Logged GDP per capita|Social support|Healthy life expectancy|Freedom to make life choices|Generosity|Perceptions of corruption|Ladder score in Dystopia|Explained by: Log GDP per capita|Explained by: Social support|Explained by: Healthy life expectancy|Explained by: Freedom to make life choices|Explained by: Generosity|Explained by: Perceptions of corruption|Dystopia + residual|\n",
      "+------------+--------------------+------------+------------------------------+------------+------------+---------------------+--------------+-----------------------+----------------------------+----------+-------------------------+------------------------+--------------------------------+----------------------------+-------------------------------------+------------------------------------------+------------------------+---------------------------------------+-------------------+\n",
      "|     Finland|      Western Europe|       7.842|                         0.032|       7.904|       7.780|               10.775|         0.954|                 72.000|                       0.949|    -0.098|                    0.186|                   2.430|                           1.446|                       1.106|                                0.741|                                     0.691|                   0.124|                                  0.481|              3.253|\n",
      "|     Denmark|      Western Europe|       7.620|                         0.035|       7.687|       7.552|               10.933|         0.954|                 72.700|                       0.946|     0.030|                    0.179|                   2.430|                           1.502|                       1.108|                                0.763|                                     0.686|                   0.208|                                  0.485|              2.868|\n",
      "| Switzerland|      Western Europe|       7.571|                         0.036|       7.643|       7.500|               11.117|         0.942|                 74.400|                       0.919|     0.025|                    0.292|                   2.430|                           1.566|                       1.079|                                0.816|                                     0.653|                   0.204|                                  0.413|              2.839|\n",
      "|     Iceland|      Western Europe|       7.554|                         0.059|       7.670|       7.438|               10.878|         0.983|                 73.000|                       0.955|     0.160|                    0.673|                   2.430|                           1.482|                       1.172|                                0.772|                                     0.698|                   0.293|                                  0.170|              2.967|\n",
      "| Netherlands|      Western Europe|       7.464|                         0.027|       7.518|       7.410|               10.932|         0.942|                 72.400|                       0.913|     0.175|                    0.338|                   2.430|                           1.501|                       1.079|                                0.753|                                     0.647|                   0.302|                                  0.384|              2.798|\n",
      "|      Norway|      Western Europe|       7.392|                         0.035|       7.462|       7.323|               11.053|         0.954|                 73.300|                       0.960|     0.093|                    0.270|                   2.430|                           1.543|                       1.108|                                0.782|                                     0.703|                   0.249|                                  0.427|              2.580|\n",
      "|      Sweden|      Western Europe|       7.363|                         0.036|       7.433|       7.293|               10.867|         0.934|                 72.700|                       0.945|     0.086|                    0.237|                   2.430|                           1.478|                       1.062|                                0.763|                                     0.685|                   0.244|                                  0.448|              2.683|\n",
      "|  Luxembourg|      Western Europe|       7.324|                         0.037|       7.396|       7.252|               11.647|         0.908|                 72.600|                       0.907|    -0.034|                    0.386|                   2.430|                           1.751|                       1.003|                                0.760|                                     0.639|                   0.166|                                  0.353|              2.653|\n",
      "| New Zealand|North America and...|       7.277|                         0.040|       7.355|       7.198|               10.643|         0.948|                 73.400|                       0.929|     0.134|                    0.242|                   2.430|                           1.400|                       1.094|                                0.785|                                     0.665|                   0.276|                                  0.445|              2.612|\n",
      "|     Austria|      Western Europe|       7.268|                         0.036|       7.337|       7.198|               10.906|         0.934|                 73.300|                       0.908|     0.042|                    0.481|                   2.430|                           1.492|                       1.062|                                0.782|                                     0.640|                   0.215|                                  0.292|              2.784|\n",
      "+------------+--------------------+------------+------------------------------+------------+------------+---------------------+--------------+-----------------------+----------------------------+----------+-------------------------+------------------------+--------------------------------+----------------------------+-------------------------------------+------------------------------------------+------------------------+---------------------------------------+-------------------+\n",
      "only showing top 10 rows\n",
      "\n"
     ]
    }
   ],
   "source": [
    "df_21.show(10)"
   ]
  },
  {
   "cell_type": "code",
   "execution_count": 6,
   "id": "1951c45f",
   "metadata": {},
   "outputs": [
    {
     "name": "stdout",
     "output_type": "stream",
     "text": [
      "+------------+------------+\n",
      "|Country name|Ladder score|\n",
      "+------------+------------+\n",
      "|     Finland|       7.842|\n",
      "+------------+------------+\n",
      "only showing top 1 row\n",
      "\n"
     ]
    }
   ],
   "source": [
    "# 1. ¿Cuál es el país más “feliz” del 2021 según la data? (considerar que la columna “Ladder score” mayor número más feliz es el país)\n",
    "\n",
    "df_21.select(\"Country name\", \"Ladder score\").orderBy(\"Ladder score\", ascending = False).show(1)\n"
   ]
  },
  {
   "cell_type": "code",
   "execution_count": 9,
   "id": "7a1edafd",
   "metadata": {},
   "outputs": [
    {
     "name": "stdout",
     "output_type": "stream",
     "text": [
      "+------------------+------------+------------+\n",
      "|Regional indicator|Country name|Ladder score|\n",
      "+------------------+------------+------------+\n",
      "|    Western Europe|     Finland|       7.842|\n",
      "+------------------+------------+------------+\n",
      "only showing top 1 row\n",
      "\n"
     ]
    }
   ],
   "source": [
    "#2. ¿Cuál es el país más “feliz” del 2021 por continente según la data?\n",
    "\n",
    "max_ladder_per_continent = df_21.groupBy(\"Regional indicator\").agg(max(col(\"Ladder score\")).alias(\"Max_Ladder_score\"))\n",
    "\n",
    "max_ladder_country = max_ladder_per_continent.join(df_21, (max_ladder_per_continent[\"Regional indicator\"] == df_21[\"Regional indicator\"]) & (max_ladder_per_continent[\"Max_Ladder_score\"] \n",
    "== df_21[\"Ladder score\"]), \"inner\")\n",
    "\n",
    "max_ladder_country_result = max_ladder_country.select(max_ladder_per_continent[\"Regional indicator\"], \"Country name\", \"Ladder score\")\n",
    "\n",
    "max_ladder_country_result.show(1)"
   ]
  },
  {
   "cell_type": "code",
   "execution_count": 10,
   "id": "c29f0c22",
   "metadata": {},
   "outputs": [
    {
     "name": "stdout",
     "output_type": "stream",
     "text": [
      "+------------+-----+\n",
      "|Country name|count|\n",
      "+------------+-----+\n",
      "|     Denmark|    7|\n",
      "+------------+-----+\n",
      "only showing top 1 row\n",
      "\n"
     ]
    }
   ],
   "source": [
    "# 3. ¿Cuál es el país que más veces ocupó el primer lugar en todos los años?\n",
    "\n",
    "# Filtramos por el máximo Life Ladder de cada año\n",
    "max_year_leader = df_total.groupBy(\"year\").agg(max(col(\"Life Ladder\")).alias(\"Max_Leader_score\"))\n",
    "\n",
    "# Renombramos la columna year para que ambas tablas no tengan el mismo nombre\n",
    "max_year_leader = max_year_leader.withColumnRenamed(\"year\", \"year_df\")\n",
    "\n",
    "# Cruzamos ambas tablas por el año y el valor máximo creado anteriormente\n",
    "max_leader_country = max_year_leader.join(df_total, (max_year_leader[\"year_df\"] == df_total[\"year\"]) & \n",
    "(max_year_leader[\"Max_Leader_score\"] == df_total[\"Life Ladder\"]), \"inner\")\n",
    "\n",
    "# Filtramos año, Life Ladder y el país con el máximo Life Ladder\n",
    "max_leader_country_select = max_leader_country.select(\"year\", \"Life Ladder\", \"Country name\").orderBy(\"year\", ascending = False)\n",
    "\n",
    "# Agrupamos por país y hacemos un contar de cada pais\n",
    "max_leader_country_filter = max_leader_country_select.groupBy(\"Country name\").count().orderBy(\"count\", ascending=False).show(1)\n"
   ]
  },
  {
   "cell_type": "code",
   "execution_count": 11,
   "id": "9e996500",
   "metadata": {},
   "outputs": [
    {
     "name": "stdout",
     "output_type": "stream",
     "text": [
      "+------------+----+------------+--------------------+\n",
      "|Country name|year|position_GDP|position_Life_Ladder|\n",
      "+------------+----+------------+--------------------+\n",
      "|    Bulgaria|2020|           1|                  56|\n",
      "+------------+----+------------+--------------------+\n",
      "only showing top 1 row\n",
      "\n"
     ]
    }
   ],
   "source": [
    "# 4. ¿Qué puesto de Felicidad tiene el país con mayor GDP del 2020?\n",
    "\n",
    "# Ordenamos por Log GDP per capita y Life Ladder. Filtramos el año 2020\n",
    "order_highest_GDP = df_total.select(\"Country name\", \"year\", \"Log GDP per capita\").filter(df_total[\"year\"] == \"2020\").orderBy(\"Log GDP per capita\", ascending = False)\n",
    "order_highest_Life_Ladder = df_total.select(\"Country name\", \"year\", \"Life Ladder\").filter(df_total[\"year\"] == \"2020\").orderBy(\"Life Ladder\", ascending = False)\n",
    "\n",
    "# Creamos dos window function para ordenar por GDP y Life Ladder\n",
    "window_GDP = Window.orderBy(order_highest_GDP[\"Log GDP per capita\"].desc())\n",
    "window_Life_Ladder = Window.orderBy(order_highest_Life_Ladder[\"Life Ladder\"].desc())\n",
    "\n",
    "# Añadimos una nueva columna con la posición\n",
    "row_number_highest_GDP = order_highest_GDP.withColumn(\"position_GDP\", row_number().over(window_GDP))\n",
    "row_number_highest_Life_Ladder = order_highest_Life_Ladder.withColumn(\"position_Life_Ladder\", row_number().over(window_Life_Ladder))\n",
    "\n",
    "#Cruzamos ambas tablas para asignar la posición de Felicidad al país con mayor GDP\n",
    "Life_Ladder_position_highest_GDP = row_number_highest_GDP.join(\n",
    "    row_number_highest_Life_Ladder,\n",
    "    row_number_highest_GDP[\"Country name\"] == row_number_highest_Life_Ladder[\"Country name\"],\n",
    "    \"inner\"\n",
    ").orderBy(\"position_GDP\", ascending=True).select(\n",
    "    row_number_highest_GDP[\"Country name\"], \n",
    "    row_number_highest_GDP[\"year\"], \n",
    "    row_number_highest_GDP[\"position_GDP\"],\n",
    "    row_number_highest_Life_Ladder[\"position_Life_Ladder\"]\n",
    ").show(1)\n"
   ]
  },
  {
   "cell_type": "code",
   "execution_count": 12,
   "id": "094ca0cf",
   "metadata": {},
   "outputs": [
    {
     "name": "stdout",
     "output_type": "stream",
     "text": [
      "AVG 2020 9.751329579136588\n",
      "AVG 2020 9.432208032416018\n",
      "Variación entre 2021 y 2020 -0.03272595230534969\n"
     ]
    }
   ],
   "source": [
    "# 5. ¿En que porcentaje a variado a nivel mundial el GDP promedio del 2020 respecto al 2021? ¿Aumentó o disminuyó?\n",
    "\n",
    "# Hacemos un cast en los dos datasets, ya que no reconoce como número el campo a comparar\n",
    "df_total_with_GDP_Cast = df_total.withColumn(\"Log GDP per capita cast\", df_total[\"Log GDP per capita\"].cast(\"float\"))\n",
    "df_total_with_GDP_Cast_21 = df_21.withColumn(\"Log GDP per capita cast\", df_21[\"Logged GDP per capita\"].cast(\"float\"))\n",
    "\n",
    "# Obtenemos el promedio de cada año\n",
    "order_highest_GDP_2020 = df_total_with_GDP_Cast.filter(df_total_with_GDP_Cast[\"year\"] == \"2020\").groupBy().avg(\"Log GDP per capita cast\").collect()[0][0]\n",
    "order_highest_GDP_2021 = df_total_with_GDP_Cast_21.groupBy().avg(\"Log GDP per capita cast\").collect()[0][0]\n",
    "\n",
    "# Calculamos la variación de los promedios entre el año 2021 y 2021\n",
    "variacion = order_highest_GDP_2021 / order_highest_GDP_2020 - 1\n",
    "\n",
    "# Imprimir la variación de los promedios entre el año 2020 y 2021\n",
    "print(\"AVG 2020\", order_highest_GDP_2020)\n",
    "print(\"AVG 2020\", order_highest_GDP_2021)\n",
    "print(\"Variación entre 2021 y 2020\",variacion)"
   ]
  },
  {
   "cell_type": "code",
   "execution_count": 13,
   "id": "886035e6",
   "metadata": {},
   "outputs": [
    {
     "name": "stdout",
     "output_type": "stream",
     "text": [
      "+------------+-----------------------+\n",
      "|Country name|Healthy life expectancy|\n",
      "+------------+-----------------------+\n",
      "|   Singapore|                 76.953|\n",
      "+------------+-----------------------+\n",
      "only showing top 1 row\n",
      "\n",
      "+------------+----+--------------------------------+\n",
      "|Country name|year|Healthy life expectancy at birth|\n",
      "+------------+----+--------------------------------+\n",
      "|   Singapore|2019|                          77.100|\n",
      "+------------+----+--------------------------------+\n",
      "\n"
     ]
    }
   ],
   "source": [
    "# 6. ¿Cuál es el país con mayor expectativa de vide (“Healthy life expectancy at birth”)? Y ¿Cuánto tenia en ese indicador en el 2019?\n",
    "\n",
    "# Seleccionamos el pais y Healthy life expectancy, y ordenamos de mayor a menor para ver cuál es el mayor\n",
    "df_21_Healthy = df_21.select(\"Country name\", \"Healthy life expectancy\").orderBy(\"Healthy life expectancy\", ascending = False).show(1)\n",
    "\n",
    "# Vemos que es Singapore, por lo que ahora filtramos el dataset por 2019 y por Singapore\n",
    "df_19_Singapore_Healtyt = df_total.select(\"Country name\", \"year\", \"Healthy life expectancy at birth\").filter((df_total[\"Country name\"] == \"Singapore\") \\\n",
    "    & (df_total[\"year\"] == \"2019\")).show()"
   ]
  }
 ],
 "metadata": {
  "kernelspec": {
   "display_name": "Python 3 (ipykernel)",
   "language": "python",
   "name": "python3"
  },
  "language_info": {
   "codemirror_mode": {
    "name": "ipython",
    "version": 3
   },
   "file_extension": ".py",
   "mimetype": "text/x-python",
   "name": "python",
   "nbconvert_exporter": "python",
   "pygments_lexer": "ipython3",
   "version": "3.11.5"
  },
  "varInspector": {
   "cols": {
    "lenName": 16,
    "lenType": 16,
    "lenVar": 40
   },
   "kernels_config": {
    "python": {
     "delete_cmd_postfix": "",
     "delete_cmd_prefix": "del ",
     "library": "var_list.py",
     "varRefreshCmd": "print(var_dic_list())"
    },
    "r": {
     "delete_cmd_postfix": ") ",
     "delete_cmd_prefix": "rm(",
     "library": "var_list.r",
     "varRefreshCmd": "cat(var_dic_list()) "
    }
   },
   "types_to_exclude": [
    "module",
    "function",
    "builtin_function_or_method",
    "instance",
    "_Feature"
   ],
   "window_display": false
  }
 },
 "nbformat": 4,
 "nbformat_minor": 5
}
